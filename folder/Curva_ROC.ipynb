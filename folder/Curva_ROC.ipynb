{
 "cells": [
  {
   "cell_type": "markdown",
   "id": "593f8bd3-8980-499e-af4b-7ae1e5ebcf64",
   "metadata": {},
   "source": [
    "# CURVA ROC / AUC\n",
    "A Curva ROC é uma curva que de forma muito simplista e fácil de se avaliar serve para avaliar a performance de um modelo preditivo de classificação, onde é muito importante medir a Sensibilidade do modelo. Ela é aplicada em modelos de Regressão Logística Binária."
   ]
  },
  {
   "cell_type": "code",
   "execution_count": 2,
   "id": "c3c4de1c-8ed5-4837-8f46-8219210d8df4",
   "metadata": {},
   "outputs": [],
   "source": [
    "#Pacotes\n",
    "import pandas as pd\n",
    "import matplotlib.pyplot as plt\n",
    "import seaborn as sns\n",
    "import numpy as np\n",
    "\n",
    "from sklearn.metrics import roc_curve, roc_auc_score\n",
    "from sklearn.ensemble import RandomForestClassifier\n",
    "from sklearn.model_selection import train_test_split\n",
    "from sklearn.preprocessing import LabelEncoder\n",
    "from imblearn import under_sampling, over_sampling\n",
    "from imblearn.over_sampling import SMOTE\n",
    "from sklearn.preprocessing import MinMaxScaler\n",
    "from sklearn.metrics import r2_score, accuracy_score, confusion_matrix, ConfusionMatrixDisplay"
   ]
  },
  {
   "cell_type": "code",
   "execution_count": 4,
   "id": "5b48bd86-88be-4af7-91df-476965e150f9",
   "metadata": {},
   "outputs": [
    {
     "data": {
      "text/html": [
       "<div>\n",
       "<style scoped>\n",
       "    .dataframe tbody tr th:only-of-type {\n",
       "        vertical-align: middle;\n",
       "    }\n",
       "\n",
       "    .dataframe tbody tr th {\n",
       "        vertical-align: top;\n",
       "    }\n",
       "\n",
       "    .dataframe thead th {\n",
       "        text-align: right;\n",
       "    }\n",
       "</style>\n",
       "<table border=\"1\" class=\"dataframe\">\n",
       "  <thead>\n",
       "    <tr style=\"text-align: right;\">\n",
       "      <th></th>\n",
       "      <th>Age</th>\n",
       "      <th>Sex</th>\n",
       "      <th>ChestPainType</th>\n",
       "      <th>RestingBP</th>\n",
       "      <th>Cholesterol</th>\n",
       "      <th>FastingBS</th>\n",
       "      <th>RestingECG</th>\n",
       "      <th>MaxHR</th>\n",
       "      <th>ExerciseAngina</th>\n",
       "      <th>Oldpeak</th>\n",
       "      <th>ST_Slope</th>\n",
       "      <th>HeartDisease</th>\n",
       "    </tr>\n",
       "  </thead>\n",
       "  <tbody>\n",
       "    <tr>\n",
       "      <th>0</th>\n",
       "      <td>40</td>\n",
       "      <td>M</td>\n",
       "      <td>ATA</td>\n",
       "      <td>140</td>\n",
       "      <td>289</td>\n",
       "      <td>0</td>\n",
       "      <td>Normal</td>\n",
       "      <td>172</td>\n",
       "      <td>N</td>\n",
       "      <td>0.0</td>\n",
       "      <td>Up</td>\n",
       "      <td>0</td>\n",
       "    </tr>\n",
       "    <tr>\n",
       "      <th>1</th>\n",
       "      <td>49</td>\n",
       "      <td>F</td>\n",
       "      <td>NAP</td>\n",
       "      <td>160</td>\n",
       "      <td>180</td>\n",
       "      <td>0</td>\n",
       "      <td>Normal</td>\n",
       "      <td>156</td>\n",
       "      <td>N</td>\n",
       "      <td>1.0</td>\n",
       "      <td>Flat</td>\n",
       "      <td>1</td>\n",
       "    </tr>\n",
       "    <tr>\n",
       "      <th>2</th>\n",
       "      <td>37</td>\n",
       "      <td>M</td>\n",
       "      <td>ATA</td>\n",
       "      <td>130</td>\n",
       "      <td>283</td>\n",
       "      <td>0</td>\n",
       "      <td>ST</td>\n",
       "      <td>98</td>\n",
       "      <td>N</td>\n",
       "      <td>0.0</td>\n",
       "      <td>Up</td>\n",
       "      <td>0</td>\n",
       "    </tr>\n",
       "    <tr>\n",
       "      <th>3</th>\n",
       "      <td>48</td>\n",
       "      <td>F</td>\n",
       "      <td>ASY</td>\n",
       "      <td>138</td>\n",
       "      <td>214</td>\n",
       "      <td>0</td>\n",
       "      <td>Normal</td>\n",
       "      <td>108</td>\n",
       "      <td>Y</td>\n",
       "      <td>1.5</td>\n",
       "      <td>Flat</td>\n",
       "      <td>1</td>\n",
       "    </tr>\n",
       "    <tr>\n",
       "      <th>4</th>\n",
       "      <td>54</td>\n",
       "      <td>M</td>\n",
       "      <td>NAP</td>\n",
       "      <td>150</td>\n",
       "      <td>195</td>\n",
       "      <td>0</td>\n",
       "      <td>Normal</td>\n",
       "      <td>122</td>\n",
       "      <td>N</td>\n",
       "      <td>0.0</td>\n",
       "      <td>Up</td>\n",
       "      <td>0</td>\n",
       "    </tr>\n",
       "  </tbody>\n",
       "</table>\n",
       "</div>"
      ],
      "text/plain": [
       "   Age Sex ChestPainType  RestingBP  Cholesterol  FastingBS RestingECG  MaxHR  \\\n",
       "0   40   M           ATA        140          289          0     Normal    172   \n",
       "1   49   F           NAP        160          180          0     Normal    156   \n",
       "2   37   M           ATA        130          283          0         ST     98   \n",
       "3   48   F           ASY        138          214          0     Normal    108   \n",
       "4   54   M           NAP        150          195          0     Normal    122   \n",
       "\n",
       "  ExerciseAngina  Oldpeak ST_Slope  HeartDisease  \n",
       "0              N      0.0       Up             0  \n",
       "1              N      1.0     Flat             1  \n",
       "2              N      0.0       Up             0  \n",
       "3              Y      1.5     Flat             1  \n",
       "4              N      0.0       Up             0  "
      ]
     },
     "execution_count": 4,
     "metadata": {},
     "output_type": "execute_result"
    }
   ],
   "source": [
    "df_original = pd.read_csv('heart.csv')\n",
    "df_original.head()"
   ]
  },
  {
   "cell_type": "code",
   "execution_count": 6,
   "id": "0e8240a9-be9f-4435-aa74-7b5f0ecd2e59",
   "metadata": {},
   "outputs": [],
   "source": [
    "# Convertendo as variaveis do tipo Object para Category\n",
    "df_original['Sex'] = df_original['Sex'].astype('category')\n",
    "df_original['ChestPainType'] = df_original['ChestPainType'].astype('category')\n",
    "df_original['RestingECG'] = df_original['RestingECG'].astype('category')\n",
    "df_original['ExerciseAngina'] = df_original['ExerciseAngina'].astype('category')\n",
    "df_original['ST_Slope'] = df_original['ST_Slope'].astype('category')\n",
    "df_original['FastingBS'] = df_original['FastingBS'].astype('category')\n",
    "\n",
    "# carregar variaveis categoricas para OneHotEncoding\n",
    "# Vamos colocar o slice somente até a coluna de indice 18 para não pegar a variável target.\n",
    "variaveis_categoricas = []\n",
    "for i in df_original.columns[0:11].tolist():\n",
    "        if df_original.dtypes[i] == 'object' or df_original.dtypes[i] == 'category':                        \n",
    "            variaveis_categoricas.append(i) \n",
    "            \n",
    "\n",
    "# Cria o encoder e aplica OneHotEncoder\n",
    "lb = LabelEncoder()\n",
    "\n",
    "for var in variaveis_categoricas:\n",
    "    df_original[var] = lb.fit_transform(df_original[var])\n",
    "    \n",
    "    \n",
    "#Separar variaveis preditoras e target\n",
    "PREDITORAS = df_original.iloc[:, 0:11]  \n",
    "TARGET = df_original.iloc[:, 11] \n",
    "\n",
    "\n",
    "# Seed para reproduzir o mesmo resultado\n",
    "seed = 100\n",
    "\n",
    "# Cria o balanceador SMOTE\n",
    "balanceador = SMOTE(random_state = seed)\n",
    "\n",
    "# Aplica o balanceador\n",
    "PREDITORAS_RES, TARGET_RES = balanceador.fit_resample(PREDITORAS, TARGET)\n",
    "\n",
    "\n",
    "# Divisão em Dados de Treino e Teste.\n",
    "X_treino, X_teste, Y_treino, Y_teste = train_test_split(PREDITORAS_RES, TARGET_RES, test_size = 0.3, random_state = 42)\n",
    "\n",
    "\n",
    "# Normalização das Variáveis\n",
    "Normalizador = MinMaxScaler()\n",
    "X_treino_normalizados = Normalizador.fit_transform(X_treino)\n",
    "X_teste_normalizados = Normalizador.transform(X_teste)"
   ]
  },
  {
   "cell_type": "code",
   "execution_count": 10,
   "id": "b6035d68-1abe-47cf-8ff0-e625875d9a4a",
   "metadata": {},
   "outputs": [],
   "source": [
    "# Criando o classificador com Random Forest\n",
    "clf = RandomForestClassifier(n_estimators  = 300, criterion = 'entropy', max_depth = 10, \n",
    "                             max_features = 'sqrt', min_samples_leaf = 2, min_samples_split = 2, n_jobs = 8)\n",
    "\n",
    "# Construção do modelo\n",
    "clf = clf.fit(X_treino_normalizados, Y_treino)\n",
    "\n",
    "# Previsoes do modelo\n",
    "previsoes = clf.predict(X_teste_normalizados)"
   ]
  },
  {
   "cell_type": "code",
   "execution_count": 12,
   "id": "6b32f544-8a57-4ce7-bc51-933a64b172fb",
   "metadata": {},
   "outputs": [
    {
     "name": "stdout",
     "output_type": "stream",
     "text": [
      "[[120  18]\n",
      " [ 20 147]]\n"
     ]
    }
   ],
   "source": [
    "# Criamos uma confusion matrix\n",
    "cm = confusion_matrix(Y_teste, previsoes)\n",
    "print(cm)"
   ]
  },
  {
   "cell_type": "code",
   "execution_count": 14,
   "id": "0bdd087d-939d-4977-9a29-34b5af835acb",
   "metadata": {},
   "outputs": [
    {
     "data": {
      "image/png": "[encoded data removed]",
      "text/plain": [
       "<Figure size 500x500 with 1 Axes>"
      ]
     },
     "metadata": {},
     "output_type": "display_data"
    }
   ],
   "source": [
    "# Gerando o plot da confusion matrix\n",
    "cm_disp = ConfusionMatrixDisplay(confusion_matrix = cm, display_labels = [\"Sim\",\"Não\"])\n",
    "plt.rcParams[\"figure.figsize\"] = [5.00, 5.00]\n",
    "plt.rcParams[\"figure.autolayout\"] = True\n",
    "cm_disp.plot(include_values=True, \n",
    "             cmap='Blues',              \n",
    "             colorbar=None)\n",
    "plt.show()"
   ]
  },
  {
   "cell_type": "code",
   "execution_count": 16,
   "id": "c6cfa70d-393b-46d2-bb7a-ec3bbae20ad6",
   "metadata": {},
   "outputs": [
    {
     "name": "stdout",
     "output_type": "stream",
     "text": [
      "TPR:  267\n",
      "FRP:  38\n"
     ]
    }
   ],
   "source": [
    "TRP = cm[0][0] + cm[1][1] \n",
    "FPR = cm[0][1] + cm[1][0] \n",
    "\n",
    "print('TPR: ', TRP)\n",
    "print('FRP: ', FPR)"
   ]
  },
  {
   "cell_type": "code",
   "execution_count": 18,
   "id": "8491e004-7629-47e2-b666-e571316ee1c8",
   "metadata": {},
   "outputs": [],
   "source": [
    "# Como a Curva ROC é calculada\n",
    "# No eixo X (Horizontal) é a taxa de falso positivo (FPR)\n",
    "# No eixo Y (Vertical) é a taxa de verdadeiro positivo (TPR)\n",
    "\n",
    "#from sklearn.model_selection import train_test_split\n",
    "from sklearn.neighbors import KNeighborsClassifier\n",
    "\n",
    "# Criando o modelo com Random Forest\n",
    "modelo_RFC = RandomForestClassifier(n_estimators  = 300, criterion = 'entropy', max_depth = 10, \n",
    "                             max_features = 'sqrt', min_samples_leaf = 2, min_samples_split = 2, n_jobs = 8)\n",
    "\n",
    "\n",
    "# Criando o modelo com KNN\n",
    "modelo_KNN = KNeighborsClassifier(n_neighbors=4)\n",
    "\n",
    "\n",
    "# Treinando os modelos\n",
    "modelo_RFC.fit(X_treino_normalizados, Y_treino)\n",
    "modelo_KNN.fit(X_treino_normalizados, Y_treino)\n",
    "\n",
    "\n",
    "# Gerando as probabilidades\n",
    "pred_prob_RFC = modelo_RFC.predict_proba(X_teste_normalizados)\n",
    "pred_prob_KNN = modelo_KNN.predict_proba(X_teste_normalizados)"
   ]
  },
  {
   "cell_type": "code",
   "execution_count": 20,
   "id": "5b9ffe03-d0ed-4a6d-9ae5-eb233b952498",
   "metadata": {},
   "outputs": [],
   "source": [
    "# Atribuindo os valores as variaveis\n",
    "frp1, tpr1, thresh1 = roc_curve(Y_teste, pred_prob_RFC[:,1], pos_label = 1)\n",
    "frp2, tpr2, thresh2 = roc_curve(Y_teste, pred_prob_KNN[:,1], pos_label = 1)\n",
    "\n",
    "# Fazendo um loop for com as probabilidades\n",
    "random_probs = [0 for i in range(len(Y_teste))]\n",
    "p_fpr, p_tpr, _ = roc_curve(Y_teste, random_probs, pos_label = 1)"
   ]
  },
  {
   "cell_type": "code",
   "execution_count": 22,
   "id": "9cfb308d-3cdf-4f31-92fb-fe74dd391cf7",
   "metadata": {},
   "outputs": [
    {
     "data": {
      "image/png": "[encoded data removed]",
      "text/plain": [
       "<Figure size 500x500 with 1 Axes>"
      ]
     },
     "metadata": {},
     "output_type": "display_data"
    }
   ],
   "source": [
    "# Gerando o gráfico da Curva ROC\n",
    "plt.plot(frp1,tpr1, linestyle = '--', color = 'red', label = 'Random Forest')\n",
    "plt.plot(frp2,tpr2, linestyle = '--', color = 'green', label = 'KNN')\n",
    "plt.plot(p_fpr, p_tpr, linestyle = '--', color = 'blue')\n",
    "\n",
    "plt.title('Curva ROC')\n",
    "plt.xlabel('FRP - False Positive Rate')\n",
    "plt.ylabel('TPR - True Positive Rate')\n",
    "\n",
    "plt.legend(loc = 'best')\n",
    "plt.show()"
   ]
  },
  {
   "cell_type": "code",
   "execution_count": 24,
   "id": "eb310a66-a56f-4d05-b880-8a63042c9589",
   "metadata": {},
   "outputs": [
    {
     "name": "stdout",
     "output_type": "stream",
     "text": [
      "AUC Score RFC:  0.9412479389047991\n",
      "AUC Score KNN:  0.9196389829037578\n"
     ]
    }
   ],
   "source": [
    "# AUC Score - Area Under Curve - Area Abaixo da Curva\n",
    "print('AUC Score RFC: ', roc_auc_score(Y_teste, pred_prob_RFC[:,1]))\n",
    "print('AUC Score KNN: ', roc_auc_score(Y_teste, pred_prob_KNN[:,1]))"
   ]
  },
  {
   "cell_type": "markdown",
   "id": "b0c19d56-eb26-4403-9eb2-ee1d2d5942f8",
   "metadata": {},
   "source": [
    "Fim"
   ]
  }
 ],
 "metadata": {
  "kernelspec": {
   "display_name": "Python 3 (ipykernel)",
   "language": "python",
   "name": "python3"
  },
  "language_info": {
   "codemirror_mode": {
    "name": "ipython",
    "version": 3
   },
   "file_extension": ".py",
   "mimetype": "text/x-python",
   "name": "python",
   "nbconvert_exporter": "python",
   "pygments_lexer": "ipython3",
   "version": "3.12.4"
  }
 },
 "nbformat": 4,
 "nbformat_minor": 5
}
